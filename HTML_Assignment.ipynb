{
  "nbformat": 4,
  "nbformat_minor": 0,
  "metadata": {
    "colab": {
      "provenance": []
    },
    "kernelspec": {
      "name": "python3",
      "display_name": "Python 3"
    },
    "language_info": {
      "name": "python"
    }
  },
  "cells": [
    {
      "cell_type": "code",
      "execution_count": null,
      "metadata": {
        "id": "v5dbsoI25Xwo"
      },
      "outputs": [],
      "source": []
    },
    {
      "cell_type": "markdown",
      "source": [
        "# 1. Write a simple program in HTML  that displays the heading \"HTML defines the content and structure of your website” on the web browser?"
      ],
      "metadata": {
        "id": "nB4OwwLe5eaA"
      }
    },
    {
      "cell_type": "code",
      "source": [
        "<!DOCTYPE html>\n",
        "<html lang=\"en\">\n",
        "<head>\n",
        "    <meta charset=\"UTF-8\">\n",
        "    <meta name=\"viewport\" content=\"width=device-width, initial-scale=1.0\">\n",
        "    <title></title>\n",
        "</head>\n",
        "<body>\n",
        "    <h1>\"HTML defines the content and structure of your website”</h1>\n",
        "\n",
        "</body>\n",
        "</html>"
      ],
      "metadata": {
        "id": "-pYTJaOE5owb"
      },
      "execution_count": null,
      "outputs": []
    },
    {
      "cell_type": "markdown",
      "source": [
        "--> **\"HTML defines the content and structure of your website\"**"
      ],
      "metadata": {
        "id": "vXu47LJL7OAR"
      }
    },
    {
      "cell_type": "markdown",
      "source": [
        "# 2. Explain the purpose of comments in HTML and provide an example of how to use comments in an HTML document?"
      ],
      "metadata": {
        "id": "9_ZCPNUm7u6Z"
      }
    },
    {
      "cell_type": "markdown",
      "source": [
        "\n",
        "\n",
        "*   Comments are useful when you want to write something about the code.\n",
        "*   In html, you can write a comments, but the browser will not display on screen.\n",
        "*   You write comments for your future self or for other developers who\n",
        "might work on the same codebase.\n",
        "\n",
        "In html, we use syntax of comments:-\n",
        "<!--code-->\n",
        "\n",
        "\n",
        "\n"
      ],
      "metadata": {
        "id": "C363Ae5Y8Bag"
      }
    },
    {
      "cell_type": "code",
      "source": [
        "<!--code-->"
      ],
      "metadata": {
        "id": "Eqy3AXROBOYv"
      },
      "execution_count": null,
      "outputs": []
    },
    {
      "cell_type": "markdown",
      "source": [
        "# 3. Write an HTML program that includes a heading, a paragraph of text, a horizontal line, and a line break. Arrange these elements to create a simple web page layout?"
      ],
      "metadata": {
        "id": "AaO0DLMlBRue"
      }
    },
    {
      "cell_type": "code",
      "source": [
        "<!DOCTYPE html>\n",
        "<html lang=\"en\">\n",
        "<head>\n",
        "    <meta charset=\"UTF-8\">\n",
        "    <meta name=\"viewport\" content=\"width=device-width, initial-scale=1.0\">\n",
        "    <title></title>\n",
        "</head>\n",
        "<br>\n",
        "    <h1>This is a simple web page layout</h1>\n",
        "    <hr>\n",
        "    Lorem ipsum dolor sit amet consectetur adipisicing elit. <br> natus rerum libero excepturi ad maxime optio, inventore alias hic? Doloremque repellat, nemo perferendis culpa odit eius aliquam quis atque possimus.\n",
        "\n",
        "</body>\n",
        "</html>"
      ],
      "metadata": {
        "id": "7xLPgWD4Bnfr"
      },
      "execution_count": null,
      "outputs": []
    },
    {
      "cell_type": "markdown",
      "source": [
        "# 4. Write a short note on Tag and element with an example?"
      ],
      "metadata": {
        "id": "uHUDvFHOCMWT"
      }
    },
    {
      "cell_type": "markdown",
      "source": [
        "**Tags:-**\n",
        "\n",
        "*   Tags are the basic building blocks of HTML document.\n",
        "*   Tags are enclosed in angle brackets(<>).\n",
        "\n",
        "\n",
        "\n",
        "**Elements:-**\n",
        "\n",
        "*  Each HTML element has a specific structure that defines its behaviour and appearance on a web page.\n",
        "*  HTML elements consist of a start tag, an end\n",
        "tag (if applicable), and content in between the tags(<>)****(</>).\n",
        "\n",
        "\n",
        "\n"
      ],
      "metadata": {
        "id": "2XDDmuVNCVFE"
      }
    },
    {
      "cell_type": "markdown",
      "source": [
        "# 5. What is the DOCTYPE Declaration in HTML?"
      ],
      "metadata": {
        "id": "9mWNuq63SHG_"
      }
    },
    {
      "cell_type": "markdown",
      "source": [
        "\n",
        "*   The <DOCTYPE> declaration represents the document type, and helps browsers to display web pages correctly.\n",
        "*   It must appear only once, at the top of the page(before HTML tag).\n",
        "*   The <DOCTYPE> declaration is not case sensitive. We can write any of the following, it does not give any error.\n",
        "\n",
        "Here is some examples of <DOCTYPE>:-\n",
        "\n",
        "  \n",
        "\n",
        "\n",
        "\n"
      ],
      "metadata": {
        "id": "mQdAbGbTS3Qp"
      }
    },
    {
      "cell_type": "code",
      "source": [
        "<!DOCTYPE html>\n",
        "<!DocType html>\n",
        "<!Doctype html>\n",
        "<!doctype html>"
      ],
      "metadata": {
        "id": "OMUd0IR2VdKs"
      },
      "execution_count": null,
      "outputs": []
    }
  ]
}